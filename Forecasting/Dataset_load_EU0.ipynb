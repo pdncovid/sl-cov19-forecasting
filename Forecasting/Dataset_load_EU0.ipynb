{
 "cells": [
  {
   "cell_type": "code",
   "execution_count": 76,
   "metadata": {
    "collapsed": true
   },
   "outputs": [],
   "source": [
    "import os\n",
    "import pandas as pd\n",
    "import numpy as np"
   ]
  },
  {
   "cell_type": "code",
   "execution_count": 84,
   "outputs": [],
   "source": [
    "path = \"F:\\GitHub\\COVID-19-EU\\data-by-region\"\n",
    "os.environ['PATH'] += ':' + path\n",
    "\n",
    "EU_df = pd.read_csv(path + '\\jrc-covid-19-all-days-by-regions.csv')"
   ],
   "metadata": {
    "collapsed": false,
    "pycharm": {
     "name": "#%%\n"
    }
   }
  },
  {
   "cell_type": "code",
   "execution_count": 98,
   "outputs": [],
   "source": [
    "country = 'Germany'\n",
    "index = EU_df.index\n",
    "region_idx = index[EU_df['CountryName'].str.contains(country)].tolist()\n",
    "EU_df_new = EU_df.iloc[region_idx, :][['Date', 'CountryName', 'Region', 'CumulativePositive']]"
   ],
   "metadata": {
    "collapsed": false,
    "pycharm": {
     "name": "#%%\n"
    }
   }
  },
  {
   "cell_type": "code",
   "execution_count": 116,
   "outputs": [
    {
     "name": "stdout",
     "output_type": "stream",
     "text": [
      "Index(['Baden-Württemberg', 'Bayern', 'Hessen', 'Nordrhein-Westfalen',\n",
      "       'Repatriierte', 'Rheinland-Pfalz', 'Schleswig Holstein', 'Bremen',\n",
      "       'Hamburg', 'Niedersachsen', 'Berlin', 'Brandenburg', 'Sachsen',\n",
      "       'Thüringen', 'Mecklenburg-Vorpommern', 'NOT SPECIFIED', 'Saarland',\n",
      "       'Sachsen-Anhalt'],\n",
      "      dtype='object')\n",
      "Index(['Baden-Württemberg', 'Bayern', 'Hessen', 'Nordrhein-Westfalen',\n",
      "       'Repatriierte', 'Rheinland-Pfalz', 'Schleswig Holstein', 'Bremen',\n",
      "       'Hamburg', 'Niedersachsen', 'Berlin', 'Brandenburg', 'Sachsen',\n",
      "       'Thüringen', 'Mecklenburg-Vorpommern', 'Saarland', 'Sachsen-Anhalt'],\n",
      "      dtype='object')\n"
     ]
    }
   ],
   "source": [
    "region_list = EU_df_new.Region.unique().tolist()\n",
    "dates = EU_df_new.Date.unique().tolist()\n",
    "\n",
    "\n",
    "EU_df_time = pd.DataFrame(index=region_list, columns=dates)\n",
    "\n",
    "for _date in dates:\n",
    "    _df = EU_df_new.loc[EU_df_new['Date'] == _date][['Region', 'CumulativePositive']]\n",
    "    _df = _df.set_index('Region')\n",
    "    EU_df_time.loc[_df.index, _date] = _df.values.reshape(-1)\n",
    "    EU_df_time[EU_df_time.isnull().values] = 0\n",
    "\n",
    "#removing nan rows\n",
    "EU_df_time = EU_df_time[EU_df_time.index.notnull()]\n",
    "# remove unspecified rows\n",
    "remove_rows = ['nan', 'Nan', 'NOT SPECIFIED']\n",
    "for word in remove_rows:\n",
    "    if word in EU_df_time.index:\n",
    "        EU_df_time = EU_df_time.drop(index=word)\n",
    "\n",
    "\n",
    "print(EU_df_time.index)"
   ],
   "metadata": {
    "collapsed": false,
    "pycharm": {
     "name": "#%%\n"
    }
   }
  },
  {
   "cell_type": "code",
   "execution_count": 106,
   "outputs": [],
   "source": [],
   "metadata": {
    "collapsed": false,
    "pycharm": {
     "name": "#%%\n"
    }
   }
  },
  {
   "cell_type": "code",
   "execution_count": null,
   "outputs": [],
   "source": [],
   "metadata": {
    "collapsed": false,
    "pycharm": {
     "name": "#%%\n"
    }
   }
  }
 ],
 "metadata": {
  "kernelspec": {
   "name": "python3",
   "language": "python",
   "display_name": "Python 3"
  },
  "language_info": {
   "codemirror_mode": {
    "name": "ipython",
    "version": 2
   },
   "file_extension": ".py",
   "mimetype": "text/x-python",
   "name": "python",
   "nbconvert_exporter": "python",
   "pygments_lexer": "ipython2",
   "version": "2.7.6"
  }
 },
 "nbformat": 4,
 "nbformat_minor": 0
}